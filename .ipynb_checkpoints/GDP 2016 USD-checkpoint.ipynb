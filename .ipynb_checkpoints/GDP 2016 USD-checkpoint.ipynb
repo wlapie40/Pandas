{
 "cells": [
  {
   "cell_type": "code",
   "execution_count": 5,
   "metadata": {},
   "outputs": [
    {
     "data": {
      "text/html": [
       "<script>requirejs.config({paths: { 'plotly': ['https://cdn.plot.ly/plotly-latest.min']},});if(!window.Plotly) {{require(['plotly'],function(plotly) {window.Plotly=plotly;});}}</script>"
      ],
      "text/vnd.plotly.v1+html": [
       "<script>requirejs.config({paths: { 'plotly': ['https://cdn.plot.ly/plotly-latest.min']},});if(!window.Plotly) {{require(['plotly'],function(plotly) {window.Plotly=plotly;});}}</script>"
      ]
     },
     "metadata": {},
     "output_type": "display_data"
    }
   ],
   "source": [
    "import plotly.plotly as py\n",
    "import plotly.graph_objs as go \n",
    "from plotly.offline import download_plotlyjs, init_notebook_mode, plot, iplot\n",
    "import pandas as pd\n",
    "init_notebook_mode(connected=True) "
   ]
  },
  {
   "cell_type": "code",
   "execution_count": 6,
   "metadata": {},
   "outputs": [],
   "source": [
    "df=pd.read_csv(r'data.csv',sep=';')"
   ]
  },
  {
   "cell_type": "code",
   "execution_count": 7,
   "metadata": {},
   "outputs": [],
   "source": [
    "data = dict(\n",
    "        type = 'choropleth',\n",
    "        colorscale = 'Viridis',\n",
    "        reversescale = True,\n",
    "        locations = df['Country'],\n",
    "        locationmode = \"country names\",\n",
    "        z = df['2016'],\n",
    "        text = df['Country'],\n",
    "        colorbar = {'title' : '$'},\n",
    "      ) \n",
    "\n",
    "layout = dict(title = 'GROSS DOMESTIC PRODUCT AT PURCHASING POWER PARITYa PER CAPITA (current prices)',\n",
    "                geo = dict(showframe = False,projection = {'type':'natural earth'})\n",
    "             )"
   ]
  },
  {
   "cell_type": "code",
   "execution_count": 8,
   "metadata": {},
   "outputs": [
    {
     "data": {
      "application/vnd.plotly.v1+json": {
       "data": [
        {
         "colorbar": {
          "title": "$"
         },
         "colorscale": "Viridis",
         "locationmode": "country names",
         "locations": [
          "Argentina",
          "Australia",
          "Austria",
          "Belgium",
          "Belarus",
          "Brazil",
          "Bulgaria",
          "Chile",
          "China",
          "Croatia",
          "Cyprus",
          "Czech Republic",
          "Denmark",
          "Egypt",
          "Estonia",
          "Finland",
          "France",
          "Greece",
          "Spain",
          "Netherlands",
          "India",
          "Indonesia",
          "Ireland",
          "Iceland",
          "Israel",
          "Japan",
          "Canada",
          "South Korea",
          "Lithuania",
          "Luxembourg",
          "Latvia",
          "Malta",
          "Mexico",
          "Germany",
          "Nigeria",
          "Norway",
          "New Zealand",
          "Poland",
          "South Africa",
          "Portugal",
          "Russia",
          "Romania",
          "Slovakia",
          "Slovenia",
          "United States",
          "Switzerland",
          "Sweden",
          "Turkey",
          "Ukraine",
          "Hungary",
          "United Kingdom",
          "Italy"
         ],
         "reversescale": true,
         "text": [
          "Argentina",
          "Australia",
          "Austria",
          "Belgium",
          "Belarus",
          "Brazil",
          "Bulgaria",
          "Chile",
          "China",
          "Croatia",
          "Cyprus",
          "Czech Republic",
          "Denmark",
          "Egypt",
          "Estonia",
          "Finland",
          "France",
          "Greece",
          "Spain",
          "Netherlands",
          "India",
          "Indonesia",
          "Ireland",
          "Iceland",
          "Israel",
          "Japan",
          "Canada",
          "South Korea",
          "Lithuania",
          "Luxembourg",
          "Latvia",
          "Malta",
          "Mexico",
          "Germany",
          "Nigeria",
          "Norway",
          "New Zealand",
          "Poland",
          "South Africa",
          "Portugal",
          "Russia",
          "Romania",
          "Slovakia",
          "Slovenia",
          "United States",
          "Switzerland",
          "Sweden",
          "Turkey",
          "Ukraine",
          "Hungary",
          "United Kingdom",
          "Italy"
         ],
         "type": "choropleth",
         "uid": "e5b8c812-aa0d-11e8-bb6a-b0359fe2f9a4",
         "z": [
          19934,
          46790,
          50078,
          46383,
          18060,
          15128,
          19199,
          23960,
          15535,
          23596,
          32580,
          34711,
          49696,
          11132,
          29365,
          43053,
          41466,
          26783,
          36310,
          50898,
          6572,
          11612,
          68883,
          51399,
          37901,
          41470,
          44025,
          35751,
          29966,
          105882,
          26031,
          37899,
          17862,
          48730,
          5867,
          59302,
          39059,
          27811,
          30624,
          13225,
          23163,
          23626,
          30632,
          32885,
          57467,
          62881,
          49175,
          24244,
          8272,
          26681,
          42609,
          38161
         ]
        }
       ],
       "layout": {
        "geo": {
         "projection": {
          "type": "natural earth"
         },
         "showframe": false
        },
        "title": "GROSS DOMESTIC PRODUCT AT PURCHASING POWER PARITYa PER CAPITA (current prices)"
       }
      },
      "text/html": [
       "<div id=\"a4930719-3a83-4f37-ad2d-2514c3ac3096\" style=\"height: 525px; width: 100%;\" class=\"plotly-graph-div\"></div><script type=\"text/javascript\">require([\"plotly\"], function(Plotly) { window.PLOTLYENV=window.PLOTLYENV || {};window.PLOTLYENV.BASE_URL=\"https://plot.ly\";\n",
       "        Plotly.plot(\n",
       "            'a4930719-3a83-4f37-ad2d-2514c3ac3096',\n",
       "            [{\"colorbar\": {\"title\": \"$\"}, \"colorscale\": \"Viridis\", \"locationmode\": \"country names\", \"locations\": [\"Argentina\", \"Australia\", \"Austria\", \"Belgium\", \"Belarus\", \"Brazil\", \"Bulgaria\", \"Chile\", \"China\", \"Croatia\", \"Cyprus\", \"Czech Republic\", \"Denmark\", \"Egypt\", \"Estonia\", \"Finland\", \"France\", \"Greece\", \"Spain\", \"Netherlands\", \"India\", \"Indonesia\", \"Ireland\", \"Iceland\", \"Israel\", \"Japan\", \"Canada\", \"South Korea\", \"Lithuania\", \"Luxembourg\", \"Latvia\", \"Malta\", \"Mexico\", \"Germany\", \"Nigeria\", \"Norway\", \"New Zealand\", \"Poland\", \"South Africa\", \"Portugal\", \"Russia\", \"Romania\", \"Slovakia\", \"Slovenia\", \"United States\", \"Switzerland\", \"Sweden\", \"Turkey\", \"Ukraine\", \"Hungary\", \"United Kingdom\", \"Italy\"], \"reversescale\": true, \"text\": [\"Argentina\", \"Australia\", \"Austria\", \"Belgium\", \"Belarus\", \"Brazil\", \"Bulgaria\", \"Chile\", \"China\", \"Croatia\", \"Cyprus\", \"Czech Republic\", \"Denmark\", \"Egypt\", \"Estonia\", \"Finland\", \"France\", \"Greece\", \"Spain\", \"Netherlands\", \"India\", \"Indonesia\", \"Ireland\", \"Iceland\", \"Israel\", \"Japan\", \"Canada\", \"South Korea\", \"Lithuania\", \"Luxembourg\", \"Latvia\", \"Malta\", \"Mexico\", \"Germany\", \"Nigeria\", \"Norway\", \"New Zealand\", \"Poland\", \"South Africa\", \"Portugal\", \"Russia\", \"Romania\", \"Slovakia\", \"Slovenia\", \"United States\", \"Switzerland\", \"Sweden\", \"Turkey\", \"Ukraine\", \"Hungary\", \"United Kingdom\", \"Italy\"], \"z\": [19934, 46790, 50078, 46383, 18060, 15128, 19199, 23960, 15535, 23596, 32580, 34711, 49696, 11132, 29365, 43053, 41466, 26783, 36310, 50898, 6572, 11612, 68883, 51399, 37901, 41470, 44025, 35751, 29966, 105882, 26031, 37899, 17862, 48730, 5867, 59302, 39059, 27811, 30624, 13225, 23163, 23626, 30632, 32885, 57467, 62881, 49175, 24244, 8272, 26681, 42609, 38161], \"type\": \"choropleth\", \"uid\": \"e5b8c812-aa0d-11e8-bb6a-b0359fe2f9a4\"}],\n",
       "            {\"geo\": {\"projection\": {\"type\": \"natural earth\"}, \"showframe\": false}, \"title\": \"GROSS DOMESTIC PRODUCT AT PURCHASING POWER PARITYa PER CAPITA (current prices)\"},\n",
       "            {\"showLink\": true, \"linkText\": \"Export to plot.ly\"}\n",
       "        ).then(function () {return Plotly.addFrames('a4930719-3a83-4f37-ad2d-2514c3ac3096',{});}).then(function(){Plotly.animate('a4930719-3a83-4f37-ad2d-2514c3ac3096');})\n",
       "        });</script>"
      ],
      "text/vnd.plotly.v1+html": [
       "<div id=\"a4930719-3a83-4f37-ad2d-2514c3ac3096\" style=\"height: 525px; width: 100%;\" class=\"plotly-graph-div\"></div><script type=\"text/javascript\">require([\"plotly\"], function(Plotly) { window.PLOTLYENV=window.PLOTLYENV || {};window.PLOTLYENV.BASE_URL=\"https://plot.ly\";\n",
       "        Plotly.plot(\n",
       "            'a4930719-3a83-4f37-ad2d-2514c3ac3096',\n",
       "            [{\"colorbar\": {\"title\": \"$\"}, \"colorscale\": \"Viridis\", \"locationmode\": \"country names\", \"locations\": [\"Argentina\", \"Australia\", \"Austria\", \"Belgium\", \"Belarus\", \"Brazil\", \"Bulgaria\", \"Chile\", \"China\", \"Croatia\", \"Cyprus\", \"Czech Republic\", \"Denmark\", \"Egypt\", \"Estonia\", \"Finland\", \"France\", \"Greece\", \"Spain\", \"Netherlands\", \"India\", \"Indonesia\", \"Ireland\", \"Iceland\", \"Israel\", \"Japan\", \"Canada\", \"South Korea\", \"Lithuania\", \"Luxembourg\", \"Latvia\", \"Malta\", \"Mexico\", \"Germany\", \"Nigeria\", \"Norway\", \"New Zealand\", \"Poland\", \"South Africa\", \"Portugal\", \"Russia\", \"Romania\", \"Slovakia\", \"Slovenia\", \"United States\", \"Switzerland\", \"Sweden\", \"Turkey\", \"Ukraine\", \"Hungary\", \"United Kingdom\", \"Italy\"], \"reversescale\": true, \"text\": [\"Argentina\", \"Australia\", \"Austria\", \"Belgium\", \"Belarus\", \"Brazil\", \"Bulgaria\", \"Chile\", \"China\", \"Croatia\", \"Cyprus\", \"Czech Republic\", \"Denmark\", \"Egypt\", \"Estonia\", \"Finland\", \"France\", \"Greece\", \"Spain\", \"Netherlands\", \"India\", \"Indonesia\", \"Ireland\", \"Iceland\", \"Israel\", \"Japan\", \"Canada\", \"South Korea\", \"Lithuania\", \"Luxembourg\", \"Latvia\", \"Malta\", \"Mexico\", \"Germany\", \"Nigeria\", \"Norway\", \"New Zealand\", \"Poland\", \"South Africa\", \"Portugal\", \"Russia\", \"Romania\", \"Slovakia\", \"Slovenia\", \"United States\", \"Switzerland\", \"Sweden\", \"Turkey\", \"Ukraine\", \"Hungary\", \"United Kingdom\", \"Italy\"], \"z\": [19934, 46790, 50078, 46383, 18060, 15128, 19199, 23960, 15535, 23596, 32580, 34711, 49696, 11132, 29365, 43053, 41466, 26783, 36310, 50898, 6572, 11612, 68883, 51399, 37901, 41470, 44025, 35751, 29966, 105882, 26031, 37899, 17862, 48730, 5867, 59302, 39059, 27811, 30624, 13225, 23163, 23626, 30632, 32885, 57467, 62881, 49175, 24244, 8272, 26681, 42609, 38161], \"type\": \"choropleth\", \"uid\": \"e5b8c812-aa0d-11e8-bb6a-b0359fe2f9a4\"}],\n",
       "            {\"geo\": {\"projection\": {\"type\": \"natural earth\"}, \"showframe\": false}, \"title\": \"GROSS DOMESTIC PRODUCT AT PURCHASING POWER PARITYa PER CAPITA (current prices)\"},\n",
       "            {\"showLink\": true, \"linkText\": \"Export to plot.ly\"}\n",
       "        ).then(function () {return Plotly.addFrames('a4930719-3a83-4f37-ad2d-2514c3ac3096',{});}).then(function(){Plotly.animate('a4930719-3a83-4f37-ad2d-2514c3ac3096');})\n",
       "        });</script>"
      ]
     },
     "metadata": {},
     "output_type": "display_data"
    }
   ],
   "source": [
    "choromap = go.Figure(data = [data],layout = layout)\n",
    "iplot(choromap,validate=False)"
   ]
  },
  {
   "cell_type": "code",
   "execution_count": null,
   "metadata": {},
   "outputs": [],
   "source": []
  }
 ],
 "metadata": {
  "kernelspec": {
   "display_name": "Python 3",
   "language": "python",
   "name": "python3"
  },
  "language_info": {
   "codemirror_mode": {
    "name": "ipython",
    "version": 3
   },
   "file_extension": ".py",
   "mimetype": "text/x-python",
   "name": "python",
   "nbconvert_exporter": "python",
   "pygments_lexer": "ipython3",
   "version": "3.6.5"
  }
 },
 "nbformat": 4,
 "nbformat_minor": 2
}
